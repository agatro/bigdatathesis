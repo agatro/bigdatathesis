{
 "cells": [
  {
   "cell_type": "code",
   "execution_count": null,
   "metadata": {
    "collapsed": true
   },
   "outputs": [],
   "source": [
    "install miniconda\n",
    "in miniconda install notebook.\n",
    ">> conda install jupyter notebook\n",
    ">> jupyter notebook"
   ]
  },
  {
   "cell_type": "code",
   "execution_count": 1,
   "metadata": {
    "collapsed": true
   },
   "outputs": [],
   "source": [
    "import json"
   ]
  },
  {
   "cell_type": "code",
   "execution_count": 2,
   "metadata": {
    "collapsed": true
   },
   "outputs": [],
   "source": [
    "with open(\"twiqsnl_users_until2015.json\") as f:\n",
    "    user_ids = json.load(f)"
   ]
  },
  {
   "cell_type": "code",
   "execution_count": 3,
   "metadata": {
    "collapsed": false
   },
   "outputs": [
    {
     "data": {
      "text/plain": [
       "(dict, 9130587)"
      ]
     },
     "execution_count": 3,
     "metadata": {},
     "output_type": "execute_result"
    }
   ],
   "source": [
    "type(user_ids), len(user_ids)"
   ]
  },
  {
   "cell_type": "code",
   "execution_count": 7,
   "metadata": {
    "collapsed": false
   },
   "outputs": [
    {
     "name": "stdout",
     "output_type": "stream",
     "text": [
      "<class 'tuple'>\n",
      "2786226352\n",
      "2786226352 llindvv59\n"
     ]
    }
   ],
   "source": [
    "for k,v in user_ids.items():\n",
    "    print(type(u))\n",
    "    print(u[0])\n",
    "    print(k,v)\n",
    "    break"
   ]
  },
  {
   "cell_type": "code",
   "execution_count": 8,
   "metadata": {
    "collapsed": true
   },
   "outputs": [],
   "source": [
    "with open(\"tweet_count_per_user2015.json\") as f:\n",
    "    user_tweet_count = json.load(f)"
   ]
  },
  {
   "cell_type": "code",
   "execution_count": 9,
   "metadata": {
    "collapsed": false
   },
   "outputs": [
    {
     "data": {
      "text/plain": [
       "dict"
      ]
     },
     "execution_count": 9,
     "metadata": {},
     "output_type": "execute_result"
    }
   ],
   "source": [
    "type(user_tweet_count)"
   ]
  },
  {
   "cell_type": "code",
   "execution_count": 10,
   "metadata": {
    "collapsed": false
   },
   "outputs": [
    {
     "name": "stdout",
     "output_type": "stream",
     "text": [
      "<class 'tuple'>\n",
      "2786226352\n",
      "2786226352 4\n"
     ]
    }
   ],
   "source": [
    "for k,v in user_tweet_count.items():\n",
    "    print(type(u))\n",
    "    print(u[0])\n",
    "    print(k,v)\n",
    "    break"
   ]
  },
  {
   "cell_type": "code",
   "execution_count": 11,
   "metadata": {
    "collapsed": true
   },
   "outputs": [],
   "source": [
    "from collections import Counter"
   ]
  },
  {
   "cell_type": "code",
   "execution_count": 12,
   "metadata": {
    "collapsed": true
   },
   "outputs": [],
   "source": [
    "user_tweet_count2 = Counter(user_tweet_count)"
   ]
  },
  {
   "cell_type": "code",
   "execution_count": 13,
   "metadata": {
    "collapsed": false
   },
   "outputs": [
    {
     "data": {
      "text/plain": [
       "[('100587101', 726626),\n",
       " ('3021914673', 680608),\n",
       " ('2656478646', 513100),\n",
       " ('1304420018', 501682),\n",
       " ('2644549728', 485593),\n",
       " ('214464964', 462775),\n",
       " ('953160138', 431978),\n",
       " ('1665457951', 360585),\n",
       " ('39608731', 311346),\n",
       " ('145416731', 308628),\n",
       " ('1109519262', 293674),\n",
       " ('121372044', 263150),\n",
       " ('340216399', 261569),\n",
       " ('368331724', 257329),\n",
       " ('403620674', 232948),\n",
       " ('478891016', 223327),\n",
       " ('108124138', 222402),\n",
       " ('56377143', 220526),\n",
       " ('501509858', 219991),\n",
       " ('63390926', 207283),\n",
       " ('2835914368', 204695),\n",
       " ('138062686', 192494),\n",
       " ('2975168211', 183656),\n",
       " ('588286522', 183046),\n",
       " ('155840449', 168242),\n",
       " ('2267427338', 158280),\n",
       " ('2484475298', 155633),\n",
       " ('2255626489', 153234),\n",
       " ('18953632', 152349),\n",
       " ('1100412458', 150640)]"
      ]
     },
     "execution_count": 13,
     "metadata": {},
     "output_type": "execute_result"
    }
   ],
   "source": [
    "user_tweet_count2.most_common(30)"
   ]
  },
  {
   "cell_type": "code",
   "execution_count": 14,
   "metadata": {
    "collapsed": false
   },
   "outputs": [
    {
     "data": {
      "text/plain": [
       "[('100587101', 726626),\n",
       " ('3021914673', 680608),\n",
       " ('2656478646', 513100),\n",
       " ('1304420018', 501682),\n",
       " ('2644549728', 485593),\n",
       " ('214464964', 462775),\n",
       " ('953160138', 431978),\n",
       " ('1665457951', 360585),\n",
       " ('39608731', 311346),\n",
       " ('145416731', 308628),\n",
       " ('1109519262', 293674),\n",
       " ('121372044', 263150),\n",
       " ('340216399', 261569),\n",
       " ('368331724', 257329),\n",
       " ('403620674', 232948),\n",
       " ('478891016', 223327),\n",
       " ('108124138', 222402),\n",
       " ('56377143', 220526),\n",
       " ('501509858', 219991),\n",
       " ('63390926', 207283),\n",
       " ('2835914368', 204695),\n",
       " ('138062686', 192494),\n",
       " ('2975168211', 183656),\n",
       " ('588286522', 183046),\n",
       " ('155840449', 168242),\n",
       " ('2267427338', 158280),\n",
       " ('2484475298', 155633),\n",
       " ('2255626489', 153234),\n",
       " ('18953632', 152349),\n",
       " ('1100412458', 150640),\n",
       " ('1091235222', 150406),\n",
       " ('468487910', 143878),\n",
       " ('1448492712', 139666),\n",
       " ('2689668266', 135003),\n",
       " ('1597804632', 131315),\n",
       " ('308580291', 129977),\n",
       " ('788181799', 126561),\n",
       " ('1965391034', 125004),\n",
       " ('26579503', 122890),\n",
       " ('19058238', 122530)]"
      ]
     },
     "execution_count": 14,
     "metadata": {},
     "output_type": "execute_result"
    }
   ],
   "source": [
    "user_tweet_count2.most_common()[:40]"
   ]
  },
  {
   "cell_type": "code",
   "execution_count": 16,
   "metadata": {
    "collapsed": false
   },
   "outputs": [
    {
     "data": {
      "text/plain": [
       "[('1725850772', 1),\n",
       " ('2345008327', 1),\n",
       " ('3127083307', 1),\n",
       " ('3264440503', 1),\n",
       " ('2315029289', 1),\n",
       " ('263680337', 1),\n",
       " ('395937858', 1),\n",
       " ('250844407', 1),\n",
       " ('3333417346', 1),\n",
       " ('1429393856', 1)]"
      ]
     },
     "execution_count": 16,
     "metadata": {},
     "output_type": "execute_result"
    }
   ],
   "source": [
    "user_tweet_count2.most_common()[-10:]"
   ]
  },
  {
   "cell_type": "code",
   "execution_count": null,
   "metadata": {
    "collapsed": true
   },
   "outputs": [],
   "source": []
  }
 ],
 "metadata": {
  "kernelspec": {
   "display_name": "Python 3",
   "language": "python",
   "name": "python3"
  },
  "language_info": {
   "codemirror_mode": {
    "name": "ipython",
    "version": 3
   },
   "file_extension": ".py",
   "mimetype": "text/x-python",
   "name": "python",
   "nbconvert_exporter": "python",
   "pygments_lexer": "ipython3",
   "version": "3.5.1"
  }
 },
 "nbformat": 4,
 "nbformat_minor": 0
}
